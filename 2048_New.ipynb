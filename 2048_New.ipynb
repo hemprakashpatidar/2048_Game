{
  "nbformat": 4,
  "nbformat_minor": 0,
  "metadata": {
    "colab": {
      "name": "2048.ipynb",
      "provenance": []
    },
    "kernelspec": {
      "name": "python3",
      "display_name": "Python 3"
    },
    "language_info": {
      "name": "python"
    }
  },
  "cells": [
    {
      "cell_type": "markdown",
      "metadata": {
        "id": "dP9zGK31g817"
      },
      "source": [
        "2048 Game"
      ]
    },
    {
      "cell_type": "code",
      "metadata": {
        "id": "a5GU8Tk1g4f0"
      },
      "source": [
        "import random"
      ],
      "execution_count": null,
      "outputs": []
    },
    {
      "cell_type": "code",
      "metadata": {
        "id": "SbcAQV5TcyKf"
      },
      "source": [
        "class games():\n",
        "  def __init__(self):\n",
        "    self.arrs=[[0,0,0,0],[0,0,0,0],[0,0,0,0],[0,0,0,0]]\n",
        "    self.flag=0\n",
        "  \n",
        "  def print_game(self):\n",
        "    for i in self.arrs:\n",
        "      print(i)\n",
        "  \n",
        "  def check_over(self):\n",
        "    for i in range(3):\n",
        "      for j in range(4):\n",
        "        if (self.arrs[i][j]==2048 or self.arrs[i+1][j]==2048):\n",
        "          print(\"You Won\")\n",
        "          return 1\n",
        "        if ((self.arrs[i][j]==self.arrs[i+1][j]) or self.arrs[i][j]==0):\n",
        "          return 0\n",
        "       \n",
        "    for i in range(4):\n",
        "      for j in range(3):\n",
        "        if ((self.arrs[i][j]==self.arrs[i][j+1]) or self.arrs[i][j]==0):\n",
        "          return 0\n",
        "    if (self.arrs[3][3]==0):\n",
        "      return 0\n",
        "    print(\"Game Over\")\n",
        "    return 1    \n",
        "  \n",
        "  def check_empty(self):\n",
        "    empty_list=[]\n",
        "    for i in range(4):\n",
        "      for j in range(4):\n",
        "        if self.arrs[i][j]==0:\n",
        "          temp=[i,j]\n",
        "          empty_list.append(temp)\n",
        "    return empty_list\n",
        " \n",
        "  def new_random(self):\n",
        "    tem=self.check_empty()\n",
        "    new=random.randint(0,len(tem)-1)\n",
        "   \n",
        "    self.arrs[tem[new][0]][tem[new][1]]=random.choice([2,2,4])\n",
        " \n",
        "    #============================================================\n",
        "  def close(self):\n",
        "    for i in range(4):\n",
        "      t=[]\n",
        "      for j in range(4):\n",
        "        if(self.arrs[3-j][i] !=0):\n",
        "          t.append(self.arrs[3-j][i])\n",
        "      \n",
        "      if (len(t)==3):\n",
        "        if (self.arrs[0][i]!=0):\n",
        "          self.flag=1\n",
        "      elif (len(t)==2):\n",
        "        if (self.arrs[0][i]!=0 or self.arrs[1][i]!=0):\n",
        "          self.flag=1\n",
        "      elif (len(t)==1):\n",
        "        if (self.arrs[3][i]==0):\n",
        "          self.flag=1\n",
        "      \n",
        "      index=3\n",
        "      for new in t:\n",
        "        self.arrs[index][i]=new\n",
        "        index-=1\n",
        "      while(index>=0):\n",
        "        self.arrs[index][i]=0\n",
        "        index-=1\n",
        "  def combine(self):\n",
        "    for i in range(4):\n",
        "      for j in range(3,-1,-1):\n",
        "        if(self.arrs[j][i]==self.arrs[j-1][i]):\n",
        "          self.arrs[j][i]=2*self.arrs[j][i]\n",
        "          self.arrs[j-1][i]=0\n",
        "  \n",
        "  def reverse(self):\n",
        "    new_arr=[[0,0,0,0],[0,0,0,0],[0,0,0,0],[0,0,0,0]]\n",
        "    for i in range(4):\n",
        "      for j in range(4):\n",
        "        new_arr[j][i]=self.arrs[3-j][i]\n",
        "    self.arrs=new_arr\n",
        "  \n",
        "  def transpose(self):\n",
        "    new_arr=[[0,0,0,0],[0,0,0,0],[0,0,0,0],[0,0,0,0]]\n",
        "    for i in range(4):\n",
        "      for j in range(4):\n",
        "        new_arr[j][i]=self.arrs[i][j]\n",
        "    self.arrs=new_arr\n",
        "  \n",
        " \n",
        "#====================================================================\n",
        " \n",
        "  def move_down(self):\n",
        "    self.close()\n",
        "    self.combine()\n",
        "    self.close()\n",
        "    \n",
        "  def move_up(self):\n",
        "    self.reverse()\n",
        "    self.close()\n",
        "    self.combine()\n",
        "    self.close()\n",
        "    self.reverse()\n",
        "    \n",
        "  def move_right(self):\n",
        "    \n",
        "    self.transpose()\n",
        "    self.close()\n",
        "    self.combine()\n",
        "    self.close()\n",
        "    self.transpose()\n",
        "  \n",
        "  def move_left(self):\n",
        "    self.transpose()\n",
        "    self.reverse()\n",
        "    self.close()\n",
        "    self.combine()\n",
        "    self.close()\n",
        "    self.reverse()\n",
        "    self.transpose()\n",
        "  "
      ],
      "execution_count": 60,
      "outputs": []
    },
    {
      "cell_type": "code",
      "metadata": {
        "id": "3KSEC_srhfjw"
      },
      "source": [
        "def game():\n",
        "  gg=games()\n",
        "  gg.new_random()\n",
        "  gg.new_random()\n",
        "  \n",
        "  print(\"Use following commands \\n a- for left \\n d- for right \\n w- for up \\n s- for down\")\n",
        "  \n",
        "  gg.print_game()\n",
        "  play=0\n",
        "  while(play==0):\n",
        "    \n",
        "    direction=input()\n",
        "    print(\"   \")\n",
        "    gg.flag=0\n",
        "    if direction=='d':\n",
        "      gg.move_right()\n",
        "    if direction=='a':\n",
        "      gg.move_left()\n",
        "    if direction=='w':\n",
        "      gg.move_up()\n",
        "    if direction=='s':\n",
        "      gg.move_down()\n",
        "    if(gg.flag==1):\n",
        "      gg.new_random()\n",
        "    gg.print_game()\n",
        " \n",
        "    play=gg.check_over()"
      ],
      "execution_count": 37,
      "outputs": []
    },
    {
      "cell_type": "code",
      "metadata": {
        "id": "kRL5Th143z_F"
      },
      "source": [
        "game()"
      ],
      "execution_count": null,
      "outputs": []
    }
  ]
}